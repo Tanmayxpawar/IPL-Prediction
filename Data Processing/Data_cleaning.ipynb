{
 "cells": [
  {
   "cell_type": "code",
   "execution_count": 1,
   "id": "04970d57",
   "metadata": {},
   "outputs": [],
   "source": [
    "import pandas as pd\n",
    "import numpy as np\n",
    "import matplotlib.pyplot as plt\n",
    "import seaborn as sns\n",
    "\n",
    "# Suppress warnings for cleaner output\n",
    "import warnings\n",
    "warnings.filterwarnings(\"ignore\")"
   ]
  },
  {
   "cell_type": "code",
   "execution_count": 2,
   "id": "53e2bb07",
   "metadata": {},
   "outputs": [
    {
     "name": "stdout",
     "output_type": "stream",
     "text": [
      "Step 1: Loading raw datasets...\n"
     ]
    }
   ],
   "source": [
    "print(\"Step 1: Loading raw datasets...\")\n",
    "matches = pd.read_csv('matches.csv')\n",
    "deliveries = pd.read_csv('deliveries.csv')"
   ]
  },
  {
   "cell_type": "code",
   "execution_count": 3,
   "id": "3f7f48ad",
   "metadata": {},
   "outputs": [
    {
     "name": "stdout",
     "output_type": "stream",
     "text": [
      "\n",
      "Step 2: Initial data exploration...\n",
      "\n",
      "Matches dataset info:\n",
      "<class 'pandas.core.frame.DataFrame'>\n",
      "RangeIndex: 980 entries, 0 to 979\n",
      "Data columns (total 16 columns):\n",
      " #   Column           Non-Null Count  Dtype  \n",
      "---  ------           --------------  -----  \n",
      " 0   id               980 non-null    int64  \n",
      " 1   season           980 non-null    int64  \n",
      " 2   city             929 non-null    object \n",
      " 3   date             980 non-null    object \n",
      " 4   match_type       980 non-null    object \n",
      " 5   player_of_match  976 non-null    object \n",
      " 6   venue            980 non-null    object \n",
      " 7   team1            980 non-null    object \n",
      " 8   team2            980 non-null    object \n",
      " 9   toss_winner      980 non-null    object \n",
      " 10  toss_decision    980 non-null    object \n",
      " 11  winner           976 non-null    object \n",
      " 12  result           980 non-null    object \n",
      " 13  result_margin    963 non-null    float64\n",
      " 14  target_runs      978 non-null    float64\n",
      " 15  target_overs     978 non-null    float64\n",
      "dtypes: float64(3), int64(2), object(11)\n",
      "memory usage: 122.6+ KB\n",
      "\n",
      "Matches dataset summary statistics:\n",
      "                 id       season  result_margin  target_runs  target_overs\n",
      "count  9.800000e+02   980.000000     963.000000   978.000000    978.000000\n",
      "mean   9.195219e+05  2016.364286      17.463136   166.835378     19.764008\n",
      "std    3.764634e+05     5.109321      21.796628    33.335466      1.581680\n",
      "min    3.359820e+05  2008.000000       1.000000    43.000000      5.000000\n",
      "25%    5.483382e+05  2012.000000       6.000000   147.000000     20.000000\n",
      "50%    1.031805e+06  2016.500000       8.000000   167.000000     20.000000\n",
      "75%    1.254091e+06  2021.000000      20.000000   188.000000     20.000000\n",
      "max    1.426312e+06  2024.000000     146.000000   288.000000     20.000000\n",
      "\n",
      "Null values in matches dataset:\n",
      "id                  0\n",
      "season              0\n",
      "city               51\n",
      "date                0\n",
      "match_type          0\n",
      "player_of_match     4\n",
      "venue               0\n",
      "team1               0\n",
      "team2               0\n",
      "toss_winner         0\n",
      "toss_decision       0\n",
      "winner              4\n",
      "result              0\n",
      "result_margin      17\n",
      "target_runs         2\n",
      "target_overs        2\n",
      "dtype: int64\n"
     ]
    }
   ],
   "source": [
    "print(\"\\nStep 2: Initial data exploration...\")\n",
    "print(\"\\nMatches dataset info:\")\n",
    "matches.info()\n",
    "print(\"\\nMatches dataset summary statistics:\")\n",
    "print(matches.describe())\n",
    "print(\"\\nNull values in matches dataset:\")\n",
    "print(matches.isnull().sum())"
   ]
  },
  {
   "cell_type": "code",
   "execution_count": null,
   "id": "6a2e80ee",
   "metadata": {},
   "outputs": [],
   "source": [
    "print(\"\\nStep 3: Removing unnecessary columns...\")\n",
    "# Remove columns that aren't needed for analysis\n",
    "matches.drop(['umpire1', 'umpire2', 'method', 'super_over'], axis=1, inplace=True)\n",
    "print(\"Removed columns: umpire1, umpire2, method, super_over\")"
   ]
  },
  {
   "cell_type": "code",
   "execution_count": 5,
   "id": "a5ea3776",
   "metadata": {},
   "outputs": [
    {
     "name": "stdout",
     "output_type": "stream",
     "text": [
      "\n",
      "Step 4: Standardizing team names...\n"
     ]
    }
   ],
   "source": [
    "print(\"\\nStep 4: Standardizing team names...\")\n",
    "# Create a mapping dictionary for team name standardization\n",
    "team_name_mapping = {\n",
    "    'Royal Challengers Bangalore': 'Royal Challengers Bengaluru',\n",
    "    'Kings XI Punjab': 'Punjab Kings',\n",
    "    'Delhi Daredevils': 'Delhi Capitals',\n",
    "    'Deccan Chargers': 'Sunrisers Hyderabad',\n",
    "    'Rising Pune Supergiants': 'No longer active',\n",
    "    'Rising Pune Supergiant': 'No longer active',\n",
    "    'Kochi Tuskers Kerala': 'No longer active',\n",
    "    'Pune Warriors': 'No longer active',\n",
    "    'Gujarat Lions': 'No longer active',\n",
    "}"
   ]
  },
  {
   "cell_type": "code",
   "execution_count": 6,
   "id": "73912e7f",
   "metadata": {},
   "outputs": [],
   "source": [
    "for col in ['team1', 'team2', 'toss_winner', 'winner']:\n",
    "    matches[col] = matches[col].replace(team_name_mapping)\n",
    "\n",
    "# Update team names in deliveries dataset\n",
    "for col in ['batting_team', 'bowling_team']:\n",
    "    deliveries[col] = deliveries[col].replace(team_name_mapping)\n"
   ]
  },
  {
   "cell_type": "code",
   "execution_count": 7,
   "id": "fe7d3223",
   "metadata": {},
   "outputs": [
    {
     "name": "stdout",
     "output_type": "stream",
     "text": [
      "\n",
      "Step 5: Filtering out inactive teams...\n"
     ]
    }
   ],
   "source": [
    "print(\"\\nStep 5: Filtering out inactive teams...\")\n",
    "inactive_teams = ['No longer active']\n",
    "matches = matches[~matches['team1'].isin(inactive_teams)]\n",
    "matches = matches[~matches['team2'].isin(inactive_teams)]\n",
    "deliveries = deliveries[~deliveries['batting_team'].isin(inactive_teams)]\n",
    "deliveries = deliveries[~deliveries['bowling_team'].isin(inactive_teams)]"
   ]
  },
  {
   "cell_type": "code",
   "execution_count": 8,
   "id": "8e78982a",
   "metadata": {},
   "outputs": [
    {
     "name": "stdout",
     "output_type": "stream",
     "text": [
      "Teams in matches dataset after standardization:\n",
      "['Chennai Super Kings', 'Delhi Capitals', 'Gujarat Titans', 'Kolkata Knight Riders', 'Lucknow Super Giants', 'Mumbai Indians', 'Punjab Kings', 'Rajasthan Royals', 'Royal Challengers Bengaluru', 'Sunrisers Hyderabad']\n",
      "Teams in deliveries dataset after standardization:\n",
      "['Chennai Super Kings', 'Delhi Capitals', 'Gujarat Titans', 'Kolkata Knight Riders', 'Lucknow Super Giants', 'Mumbai Indians', 'Punjab Kings', 'Rajasthan Royals', 'Royal Challengers Bengaluru', 'Sunrisers Hyderabad']\n"
     ]
    }
   ],
   "source": [
    "teams_in_matches = pd.unique(matches[['team1', 'team2']].values.ravel('K'))\n",
    "print(\"Teams in matches dataset after standardization:\")\n",
    "print(sorted(teams_in_matches))\n",
    "\n",
    "teams_in_deliveries = pd.unique(deliveries[['batting_team', 'bowling_team']].values.ravel('K'))\n",
    "print(\"Teams in deliveries dataset after standardization:\")\n",
    "print(sorted(teams_in_deliveries))"
   ]
  },
  {
   "cell_type": "code",
   "execution_count": 9,
   "id": "27a0540c",
   "metadata": {},
   "outputs": [
    {
     "name": "stdout",
     "output_type": "stream",
     "text": [
      "\n",
      "Step 6: Preparing for dataset merge...\n"
     ]
    }
   ],
   "source": [
    "print(\"\\nStep 6: Preparing for dataset merge...\")\n",
    "# Rename 'id' column in matches to 'match_id' for consistent naming with deliveries\n",
    "matches.rename(columns={'id': 'match_id'}, inplace=True)"
   ]
  },
  {
   "cell_type": "code",
   "execution_count": 10,
   "id": "d8f59ccc",
   "metadata": {},
   "outputs": [
    {
     "name": "stdout",
     "output_type": "stream",
     "text": [
      "\n",
      "Step 7: Merging datasets...\n"
     ]
    }
   ],
   "source": [
    "print(\"\\nStep 7: Merging datasets...\")\n",
    "# Merge datasets to create ball-by-ball data with match information\n",
    "merged_df = deliveries.merge(matches, on='match_id', how='left')"
   ]
  },
  {
   "cell_type": "code",
   "execution_count": 11,
   "id": "0662f28b",
   "metadata": {},
   "outputs": [],
   "source": [
    "merged_df.drop(['team1', 'team2'], axis=1, inplace=True)"
   ]
  },
  {
   "cell_type": "code",
   "execution_count": 14,
   "id": "6562e242",
   "metadata": {},
   "outputs": [
    {
     "name": "stdout",
     "output_type": "stream",
     "text": [
      "\n",
      "Step 8: Handling missing values...\n"
     ]
    }
   ],
   "source": [
    "print(\"\\nStep 8: Handling missing values...\")\n",
    "venue_city_map = {\n",
    "    \"M Chinnaswamy Stadium\": \"Bengaluru\",\n",
    "    \"Punjab Cricket Association Stadium, Mohali\": \"Mohali\",\n",
    "    \"Feroz Shah Kotla\": \"Delhi\",\n",
    "    \"Wankhede Stadium\": \"Mumbai\",\n",
    "    \"Eden Gardens\": \"Kolkata\",\n",
    "    \"Sawai Mansingh Stadium\": \"Jaipur\",\n",
    "    \"Rajiv Gandhi International Stadium, Uppal\": \"Hyderabad\",\n",
    "    \"MA Chidambaram Stadium, Chepauk\": \"Chennai\",\n",
    "    \"Dr DY Patil Sports Academy\": \"Mumbai\",\n",
    "    \"Newlands\": \"Cape Town\",\n",
    "    \"St George's Park\": \"Port Elizabeth\",\n",
    "    \"Kingsmead\": \"Durban\",\n",
    "    \"SuperSport Park\": \"Centurion\",\n",
    "    \"Buffalo Park\": \"East London\",\n",
    "    \"New Wanderers Stadium\": \"Johannesburg\",\n",
    "    \"De Beers Diamond Oval\": \"Kimberley\",\n",
    "    \"OUTsurance Oval\": \"Bloemfontein\",\n",
    "    \"Brabourne Stadium\": \"Mumbai\",\n",
    "    \"Sardar Patel Stadium, Motera\": \"Ahmedabad\",\n",
    "    \"Barabati Stadium\": \"Cuttack\",\n",
    "    \"Brabourne Stadium, Mumbai\": \"Mumbai\",\n",
    "    \"Vidarbha Cricket Association Stadium, Jamtha\": \"Nagpur\",\n",
    "    \"Himachal Pradesh Cricket Association Stadium\": \"Dharamshala\",\n",
    "    \"Dr. Y.S. Rajasekhara Reddy ACA-VDCA Cricket Stadium\": \"Visakhapatnam\",\n",
    "    \"Subrata Roy Sahara Stadium\": \"Pune\",\n",
    "    \"Shaheed Veer Narayan Singh International Stadium\": \"Raipur\",\n",
    "    \"JSCA International Stadium Complex\": \"Ranchi\",\n",
    "    \"Sheikh Zayed Stadium\": \"Abu Dhabi\",\n",
    "    \"Sharjah Cricket Stadium\": \"Sharjah\",\n",
    "    \"Dubai International Cricket Stadium\": \"Dubai\",\n",
    "    \"Maharashtra Cricket Association Stadium\": \"Pune\",\n",
    "}"
   ]
  },
  {
   "cell_type": "code",
   "execution_count": 15,
   "id": "eb07bc1a",
   "metadata": {},
   "outputs": [],
   "source": [
    "# Fill missing city values using venue information\n",
    "merged_df['city'] = merged_df['city'].fillna(merged_df['venue'].map(venue_city_map))"
   ]
  },
  {
   "cell_type": "code",
   "execution_count": null,
   "id": "1cd4726f",
   "metadata": {},
   "outputs": [
    {
     "name": "stdout",
     "output_type": "stream",
     "text": [
      "\n",
      "Step 9: Handling remaining missing values...\n",
      "Number of matches with missing winners: 4\n"
     ]
    },
    {
     "ename": "KeyError",
     "evalue": "'extras'",
     "output_type": "error",
     "traceback": [
      "\u001b[1;31m---------------------------------------------------------------------------\u001b[0m",
      "\u001b[1;31mKeyError\u001b[0m                                  Traceback (most recent call last)",
      "File \u001b[1;32mc:\\Users\\nikku\\anaconda3\\envs\\Agents\\Lib\\site-packages\\pandas\\core\\indexes\\base.py:3805\u001b[0m, in \u001b[0;36mIndex.get_loc\u001b[1;34m(self, key)\u001b[0m\n\u001b[0;32m   3804\u001b[0m \u001b[38;5;28;01mtry\u001b[39;00m:\n\u001b[1;32m-> 3805\u001b[0m     \u001b[38;5;28;01mreturn\u001b[39;00m \u001b[38;5;28;43mself\u001b[39;49m\u001b[38;5;241;43m.\u001b[39;49m\u001b[43m_engine\u001b[49m\u001b[38;5;241;43m.\u001b[39;49m\u001b[43mget_loc\u001b[49m\u001b[43m(\u001b[49m\u001b[43mcasted_key\u001b[49m\u001b[43m)\u001b[49m\n\u001b[0;32m   3806\u001b[0m \u001b[38;5;28;01mexcept\u001b[39;00m \u001b[38;5;167;01mKeyError\u001b[39;00m \u001b[38;5;28;01mas\u001b[39;00m err:\n",
      "File \u001b[1;32mindex.pyx:167\u001b[0m, in \u001b[0;36mpandas._libs.index.IndexEngine.get_loc\u001b[1;34m()\u001b[0m\n",
      "File \u001b[1;32mindex.pyx:196\u001b[0m, in \u001b[0;36mpandas._libs.index.IndexEngine.get_loc\u001b[1;34m()\u001b[0m\n",
      "File \u001b[1;32mpandas\\\\_libs\\\\hashtable_class_helper.pxi:7081\u001b[0m, in \u001b[0;36mpandas._libs.hashtable.PyObjectHashTable.get_item\u001b[1;34m()\u001b[0m\n",
      "File \u001b[1;32mpandas\\\\_libs\\\\hashtable_class_helper.pxi:7089\u001b[0m, in \u001b[0;36mpandas._libs.hashtable.PyObjectHashTable.get_item\u001b[1;34m()\u001b[0m\n",
      "\u001b[1;31mKeyError\u001b[0m: 'extras'",
      "\nThe above exception was the direct cause of the following exception:\n",
      "\u001b[1;31mKeyError\u001b[0m                                  Traceback (most recent call last)",
      "Cell \u001b[1;32mIn[16], line 8\u001b[0m\n\u001b[0;32m      5\u001b[0m \u001b[38;5;28mprint\u001b[39m(\u001b[38;5;124mf\u001b[39m\u001b[38;5;124m\"\u001b[39m\u001b[38;5;124mNumber of matches with missing winners: \u001b[39m\u001b[38;5;132;01m{\u001b[39;00m\u001b[38;5;28mlen\u001b[39m(problematic_matches)\u001b[38;5;132;01m}\u001b[39;00m\u001b[38;5;124m\"\u001b[39m)\n\u001b[0;32m      7\u001b[0m \u001b[38;5;66;03m# For extras and dismissals, create binary indicators\u001b[39;00m\n\u001b[1;32m----> 8\u001b[0m merged_df[\u001b[38;5;124m'\u001b[39m\u001b[38;5;124mhas_extras\u001b[39m\u001b[38;5;124m'\u001b[39m] \u001b[38;5;241m=\u001b[39m \u001b[43mmerged_df\u001b[49m\u001b[43m[\u001b[49m\u001b[38;5;124;43m'\u001b[39;49m\u001b[38;5;124;43mextras\u001b[39;49m\u001b[38;5;124;43m'\u001b[39;49m\u001b[43m]\u001b[49m\u001b[38;5;241m.\u001b[39mnotna() \u001b[38;5;241m&\u001b[39m (merged_df[\u001b[38;5;124m'\u001b[39m\u001b[38;5;124mextras\u001b[39m\u001b[38;5;124m'\u001b[39m] \u001b[38;5;241m>\u001b[39m \u001b[38;5;241m0\u001b[39m)\n\u001b[0;32m      9\u001b[0m merged_df[\u001b[38;5;124m'\u001b[39m\u001b[38;5;124mis_wicket_binary\u001b[39m\u001b[38;5;124m'\u001b[39m] \u001b[38;5;241m=\u001b[39m merged_df[\u001b[38;5;124m'\u001b[39m\u001b[38;5;124mplayer_dismissed\u001b[39m\u001b[38;5;124m'\u001b[39m]\u001b[38;5;241m.\u001b[39mnotna()\u001b[38;5;241m.\u001b[39mastype(\u001b[38;5;28mint\u001b[39m)\n\u001b[0;32m     11\u001b[0m \u001b[38;5;66;03m# Remove matches with missing result_margin (optional, depending on analysis needs)\u001b[39;00m\n",
      "File \u001b[1;32mc:\\Users\\nikku\\anaconda3\\envs\\Agents\\Lib\\site-packages\\pandas\\core\\frame.py:4102\u001b[0m, in \u001b[0;36mDataFrame.__getitem__\u001b[1;34m(self, key)\u001b[0m\n\u001b[0;32m   4100\u001b[0m \u001b[38;5;28;01mif\u001b[39;00m \u001b[38;5;28mself\u001b[39m\u001b[38;5;241m.\u001b[39mcolumns\u001b[38;5;241m.\u001b[39mnlevels \u001b[38;5;241m>\u001b[39m \u001b[38;5;241m1\u001b[39m:\n\u001b[0;32m   4101\u001b[0m     \u001b[38;5;28;01mreturn\u001b[39;00m \u001b[38;5;28mself\u001b[39m\u001b[38;5;241m.\u001b[39m_getitem_multilevel(key)\n\u001b[1;32m-> 4102\u001b[0m indexer \u001b[38;5;241m=\u001b[39m \u001b[38;5;28;43mself\u001b[39;49m\u001b[38;5;241;43m.\u001b[39;49m\u001b[43mcolumns\u001b[49m\u001b[38;5;241;43m.\u001b[39;49m\u001b[43mget_loc\u001b[49m\u001b[43m(\u001b[49m\u001b[43mkey\u001b[49m\u001b[43m)\u001b[49m\n\u001b[0;32m   4103\u001b[0m \u001b[38;5;28;01mif\u001b[39;00m is_integer(indexer):\n\u001b[0;32m   4104\u001b[0m     indexer \u001b[38;5;241m=\u001b[39m [indexer]\n",
      "File \u001b[1;32mc:\\Users\\nikku\\anaconda3\\envs\\Agents\\Lib\\site-packages\\pandas\\core\\indexes\\base.py:3812\u001b[0m, in \u001b[0;36mIndex.get_loc\u001b[1;34m(self, key)\u001b[0m\n\u001b[0;32m   3807\u001b[0m     \u001b[38;5;28;01mif\u001b[39;00m \u001b[38;5;28misinstance\u001b[39m(casted_key, \u001b[38;5;28mslice\u001b[39m) \u001b[38;5;129;01mor\u001b[39;00m (\n\u001b[0;32m   3808\u001b[0m         \u001b[38;5;28misinstance\u001b[39m(casted_key, abc\u001b[38;5;241m.\u001b[39mIterable)\n\u001b[0;32m   3809\u001b[0m         \u001b[38;5;129;01mand\u001b[39;00m \u001b[38;5;28many\u001b[39m(\u001b[38;5;28misinstance\u001b[39m(x, \u001b[38;5;28mslice\u001b[39m) \u001b[38;5;28;01mfor\u001b[39;00m x \u001b[38;5;129;01min\u001b[39;00m casted_key)\n\u001b[0;32m   3810\u001b[0m     ):\n\u001b[0;32m   3811\u001b[0m         \u001b[38;5;28;01mraise\u001b[39;00m InvalidIndexError(key)\n\u001b[1;32m-> 3812\u001b[0m     \u001b[38;5;28;01mraise\u001b[39;00m \u001b[38;5;167;01mKeyError\u001b[39;00m(key) \u001b[38;5;28;01mfrom\u001b[39;00m\u001b[38;5;250m \u001b[39m\u001b[38;5;21;01merr\u001b[39;00m\n\u001b[0;32m   3813\u001b[0m \u001b[38;5;28;01mexcept\u001b[39;00m \u001b[38;5;167;01mTypeError\u001b[39;00m:\n\u001b[0;32m   3814\u001b[0m     \u001b[38;5;66;03m# If we have a listlike key, _check_indexing_error will raise\u001b[39;00m\n\u001b[0;32m   3815\u001b[0m     \u001b[38;5;66;03m#  InvalidIndexError. Otherwise we fall through and re-raise\u001b[39;00m\n\u001b[0;32m   3816\u001b[0m     \u001b[38;5;66;03m#  the TypeError.\u001b[39;00m\n\u001b[0;32m   3817\u001b[0m     \u001b[38;5;28mself\u001b[39m\u001b[38;5;241m.\u001b[39m_check_indexing_error(key)\n",
      "\u001b[1;31mKeyError\u001b[0m: 'extras'"
     ]
    }
   ],
   "source": [
    "# Handle other missing values\n",
    "print(\"\\nStep 9: Handling remaining missing values...\")\n",
    "# Identify matches with missing winners (likely abandoned/tied)\n",
    "problematic_matches = merged_df[merged_df['winner'].isna()]['match_id'].unique()\n",
    "print(f\"Number of matches with missing winners: {len(problematic_matches)}\")\n"
   ]
  },
  {
   "cell_type": "code",
   "execution_count": 17,
   "id": "5392411d",
   "metadata": {},
   "outputs": [
    {
     "name": "stdout",
     "output_type": "stream",
     "text": [
      "\n",
      "Remaining null values in cleaned dataset:\n",
      "match_id                 0\n",
      "inning                   0\n",
      "batting_team             0\n",
      "bowling_team             0\n",
      "over                     0\n",
      "ball                     0\n",
      "batter                   0\n",
      "bowler                   0\n",
      "non_striker              0\n",
      "batsman_runs             0\n",
      "extra_runs               0\n",
      "total_runs               0\n",
      "extras_type         217524\n",
      "is_wicket                0\n",
      "player_dismissed    218693\n",
      "dismissal_kind      218693\n",
      "fielder             221842\n",
      "season                   0\n",
      "city                     0\n",
      "date                     0\n",
      "match_type               0\n",
      "player_of_match          0\n",
      "venue                    0\n",
      "toss_winner              0\n",
      "toss_decision            0\n",
      "winner                   0\n",
      "result                   0\n",
      "result_margin            0\n",
      "target_runs              0\n",
      "target_overs             0\n",
      "has_extras               0\n",
      "is_wicket_binary         0\n",
      "dtype: int64\n"
     ]
    }
   ],
   "source": [
    "if 'extras' in merged_df.columns:\n",
    "    merged_df['has_extras'] = merged_df['extras'].notna() & (merged_df['extras'] > 0)\n",
    "elif 'extra_runs' in merged_df.columns:\n",
    "    merged_df['has_extras'] = merged_df['extra_runs'].notna() & (merged_df['extra_runs'] > 0)\n",
    "elif 'extras_type' in merged_df.columns:\n",
    "    merged_df['has_extras'] = merged_df['extras_type'].notna()\n",
    "else:\n",
    "    print(\"Note: No extras column found. Skipping extras indicator creation.\")\n",
    "\n",
    "# For wickets, check if related columns exist\n",
    "if 'player_dismissed' in merged_df.columns:\n",
    "    merged_df['is_wicket_binary'] = merged_df['player_dismissed'].notna().astype(int)\n",
    "elif 'is_wicket' in merged_df.columns:\n",
    "    merged_df['is_wicket_binary'] = merged_df['is_wicket'].fillna(0).astype(int)\n",
    "else:\n",
    "    print(\"Note: No wicket column found. Skipping wicket indicator creation.\")\n",
    "\n",
    "# Remove matches with missing result_margin (optional, depending on analysis needs)\n",
    "clean_merged_df = merged_df.dropna(subset=['result_margin'])\n",
    "\n",
    "# Final null check\n",
    "print(\"\\nRemaining null values in cleaned dataset:\")\n",
    "print(clean_merged_df.isnull().sum())"
   ]
  },
  {
   "cell_type": "code",
   "execution_count": 18,
   "id": "37ae4170",
   "metadata": {},
   "outputs": [
    {
     "name": "stdout",
     "output_type": "stream",
     "text": [
      "\n",
      "Step 10: Saving cleaned dataset...\n",
      "Cleaned and merged data has been saved to IPL_DATASET.csv\n"
     ]
    }
   ],
   "source": [
    "#Save the cleaned and merged dataset\n",
    "print(\"\\nStep 10: Saving cleaned dataset...\")\n",
    "clean_merged_df.to_csv(\"IPL_DATASET.csv\", index=False)\n",
    "print(\"Cleaned and merged data has been saved to IPL_DATASET.csv\")"
   ]
  },
  {
   "cell_type": "code",
   "execution_count": 19,
   "id": "8910d58d",
   "metadata": {},
   "outputs": [
    {
     "name": "stdout",
     "output_type": "stream",
     "text": [
      "\n",
      "Step 11: Verifying cleaned dataset...\n",
      "Cleaned dataset shape: (230103, 32)\n",
      "\n",
      "Cleaned dataset info:\n",
      "<class 'pandas.core.frame.DataFrame'>\n",
      "RangeIndex: 230103 entries, 0 to 230102\n",
      "Data columns (total 32 columns):\n",
      " #   Column            Non-Null Count   Dtype  \n",
      "---  ------            --------------   -----  \n",
      " 0   match_id          230103 non-null  int64  \n",
      " 1   inning            230103 non-null  int64  \n",
      " 2   batting_team      230103 non-null  object \n",
      " 3   bowling_team      230103 non-null  object \n",
      " 4   over              230103 non-null  int64  \n",
      " 5   ball              230103 non-null  int64  \n",
      " 6   batter            230103 non-null  object \n",
      " 7   bowler            230103 non-null  object \n",
      " 8   non_striker       230103 non-null  object \n",
      " 9   batsman_runs      230103 non-null  int64  \n",
      " 10  extra_runs        230103 non-null  int64  \n",
      " 11  total_runs        230103 non-null  int64  \n",
      " 12  extras_type       12579 non-null   object \n",
      " 13  is_wicket         230103 non-null  int64  \n",
      " 14  player_dismissed  11410 non-null   object \n",
      " 15  dismissal_kind    11410 non-null   object \n",
      " 16  fielder           8261 non-null    object \n",
      " 17  season            230103 non-null  int64  \n",
      " 18  city              230103 non-null  object \n",
      " 19  date              230103 non-null  object \n",
      " 20  match_type        230103 non-null  object \n",
      " 21  player_of_match   230103 non-null  object \n",
      " 22  venue             230103 non-null  object \n",
      " 23  toss_winner       230103 non-null  object \n",
      " 24  toss_decision     230103 non-null  object \n",
      " 25  winner            230103 non-null  object \n",
      " 26  result            230103 non-null  object \n",
      " 27  result_margin     230103 non-null  float64\n",
      " 28  target_runs       230103 non-null  float64\n",
      " 29  target_overs      230103 non-null  float64\n",
      " 30  has_extras        230103 non-null  bool   \n",
      " 31  is_wicket_binary  230103 non-null  int64  \n",
      "dtypes: bool(1), float64(3), int64(10), object(18)\n",
      "memory usage: 54.6+ MB\n",
      "\n",
      "Data cleaning process completed successfully!\n"
     ]
    }
   ],
   "source": [
    "print(\"\\nStep 11: Verifying cleaned dataset...\")\n",
    "ipl_data = pd.read_csv(\"IPL_DATASET.csv\")\n",
    "print(\"Cleaned dataset shape:\", ipl_data.shape)\n",
    "print(\"\\nCleaned dataset info:\")\n",
    "ipl_data.info()\n",
    "\n",
    "print(\"\\nData cleaning process completed successfully!\")"
   ]
  },
  {
   "cell_type": "code",
   "execution_count": 20,
   "id": "0313af78",
   "metadata": {},
   "outputs": [
    {
     "name": "stdout",
     "output_type": "stream",
     "text": [
      "match_id                 0\n",
      "inning                   0\n",
      "batting_team             0\n",
      "bowling_team             0\n",
      "over                     0\n",
      "ball                     0\n",
      "batter                   0\n",
      "bowler                   0\n",
      "non_striker              0\n",
      "batsman_runs             0\n",
      "extra_runs               0\n",
      "total_runs               0\n",
      "extras_type         217524\n",
      "is_wicket                0\n",
      "player_dismissed    218693\n",
      "dismissal_kind      218693\n",
      "fielder             221842\n",
      "season                   0\n",
      "city                     0\n",
      "date                     0\n",
      "match_type               0\n",
      "player_of_match          0\n",
      "venue                    0\n",
      "toss_winner              0\n",
      "toss_decision            0\n",
      "winner                   0\n",
      "result                   0\n",
      "result_margin            0\n",
      "target_runs              0\n",
      "target_overs             0\n",
      "has_extras               0\n",
      "is_wicket_binary         0\n",
      "dtype: int64\n"
     ]
    }
   ],
   "source": [
    "print(ipl_data.isnull().sum())"
   ]
  },
  {
   "cell_type": "markdown",
   "id": "c24c4c4d",
   "metadata": {},
   "source": [
    "*Data Preparation - Aggregating to Match Level*"
   ]
  },
  {
   "cell_type": "code",
   "execution_count": 21,
   "id": "face69c5",
   "metadata": {},
   "outputs": [],
   "source": [
    "import pandas as pd\n",
    "import numpy as np\n",
    "import matplotlib.pyplot as plt\n",
    "import seaborn as sns"
   ]
  },
  {
   "cell_type": "code",
   "execution_count": 23,
   "id": "5679b5a7",
   "metadata": {},
   "outputs": [
    {
     "data": {
      "text/plain": [
       "match_id                 0\n",
       "inning                   0\n",
       "batting_team             0\n",
       "bowling_team             0\n",
       "over                     0\n",
       "ball                     0\n",
       "batter                   0\n",
       "bowler                   0\n",
       "non_striker              0\n",
       "batsman_runs             0\n",
       "extra_runs               0\n",
       "total_runs               0\n",
       "extras_type         217524\n",
       "is_wicket                0\n",
       "player_dismissed    218693\n",
       "dismissal_kind      218693\n",
       "fielder             221842\n",
       "season                   0\n",
       "city                     0\n",
       "date                     0\n",
       "match_type               0\n",
       "player_of_match          0\n",
       "venue                    0\n",
       "toss_winner              0\n",
       "toss_decision            0\n",
       "winner                   0\n",
       "result                   0\n",
       "result_margin            0\n",
       "target_runs              0\n",
       "target_overs             0\n",
       "has_extras               0\n",
       "is_wicket_binary         0\n",
       "dtype: int64"
      ]
     },
     "execution_count": 23,
     "metadata": {},
     "output_type": "execute_result"
    }
   ],
   "source": [
    "df = pd.read_csv(\"IPL_DATASET.csv\")\n",
    "df.isnull().sum()"
   ]
  },
  {
   "cell_type": "code",
   "execution_count": 24,
   "id": "08a0b177",
   "metadata": {},
   "outputs": [],
   "source": [
    "# Converting 'date' to datetime objects for potential time-based analysis or sorting\n",
    "df['date'] = pd.to_datetime(df['date'], format='%d-%m-%Y')"
   ]
  },
  {
   "cell_type": "code",
   "execution_count": 27,
   "id": "a05e016c",
   "metadata": {},
   "outputs": [],
   "source": [
    "# Dropping columns not relevant for predicting at the start of the second innings\n",
    "\n",
    "columns_to_drop = ['batter', 'bowler', 'non_striker', 'batsman_runs', 'extra_runs',\n",
    "                   'extras_type', 'player_dismissed', 'dismissal_kind', 'fielder',\n",
    "                   'has_extras', 'is_wicket_binary', 'match_type', 'player_of_match',\n",
    "                   'result', 'result_margin', 'target_overs', 'over', 'ball']\n",
    "# We will re-calculate is_wicket from 'player_dismissed' for first innings.\n",
    "# 'is_wicket' in your sample is already 0/1 which is good, use that.\n",
    "# We keep 'total_runs' to calculate 1st innings score.\n",
    "# We keep 'target_runs' as it seems to be the target set by team1."
   ]
  },
  {
   "cell_type": "code",
   "execution_count": 28,
   "id": "d80b66cb",
   "metadata": {},
   "outputs": [],
   "source": [
    "df_cleaned = df.drop(columns=[col for col in columns_to_drop if col in df.columns], errors='ignore')"
   ]
  },
  {
   "cell_type": "code",
   "execution_count": 29,
   "id": "7fc505a1",
   "metadata": {},
   "outputs": [],
   "source": [
    "# --- Create Match Summary DataFrame ---\n",
    "\n",
    "# Group by match_id\n",
    "match_summary_list = []\n",
    "\n",
    "for match_id, group in df_cleaned.groupby('match_id'):\n",
    "    # Get first innings details\n",
    "    first_inning_df = group[group['inning'] == 1]\n",
    "    # Get second innings details (to identify chasing team if needed, and actual winner logic)\n",
    "    second_inning_df = group[group['inning'] == 2]\n",
    "\n",
    "    if first_inning_df.empty:\n",
    "        continue # Skip if no first innings data for a match\n",
    "\n",
    "    # Match-level static info (can be taken from the first row of the match group)\n",
    "    match_info = group.iloc[0]\n",
    "    \n",
    "    team1 = first_inning_df['batting_team'].iloc[0]\n",
    "    team2 = first_inning_df['bowling_team'].iloc[0] # This is the team that will chase\n",
    "\n",
    "    # Calculate runs scored and wickets lost in the first innings\n",
    "    # The 'target_runs' column in your sample is the total score of the team batting first for that match.\n",
    "    # So we can use that directly. If it wasn't available, we'd sum 'total_runs' for inning 1.\n",
    "    # Let's verify this assumption or calculate it.\n",
    "    # If target_runs for inning 1 is the score of team1, let's use it:\n",
    "    \n",
    "    # Option 1: Use the provided 'target_runs' if it correctly represents 1st innings total for all matches\n",
    "    # Ensure it's consistent for all rows of inning 1 for a given match_id\n",
    "    current_target_runs = first_inning_df['target_runs'].unique()\n",
    "    if len(current_target_runs) == 1 and current_target_runs[0] > 0 : # check if it's populated for 1st innings\n",
    "        runs_inning1 = current_target_runs[0]\n",
    "    else: # fallback to calculate from ball-by-ball\n",
    "        runs_inning1 = first_inning_df['total_runs'].sum()\n",
    "\n",
    "    wickets_inning1 = first_inning_df['is_wicket'].sum()\n",
    "\n",
    "    # Determine if the chasing team (team2) won\n",
    "    winner = match_info['winner']\n",
    "    chasing_team_won = 1 if winner == team2 else 0\n",
    "    \n",
    "    match_summary_list.append({\n",
    "        'match_id': match_id,\n",
    "        'season': match_info['season'],\n",
    "        'city': match_info['city'],\n",
    "        'date': match_info['date'],\n",
    "        'venue': match_info['venue'],\n",
    "        'team1_bat_first': team1,\n",
    "        'team2_chase': team2,\n",
    "        'toss_winner': match_info['toss_winner'],\n",
    "        'toss_decision': match_info['toss_decision'],\n",
    "        'target_runs': runs_inning1, # This is the score team2 needs to chase\n",
    "        'wickets_lost_inn1': wickets_inning1,\n",
    "        'winner': winner,\n",
    "        'chasing_team_won': chasing_team_won # Our Target Variable\n",
    "    })"
   ]
  },
  {
   "cell_type": "code",
   "execution_count": 30,
   "id": "fd87a62d",
   "metadata": {},
   "outputs": [
    {
     "name": "stdout",
     "output_type": "stream",
     "text": [
      "--- Match Summary DataFrame Head ---\n",
      "   match_id  season        city       date  \\\n",
      "0    335982    2008   Bangalore 2008-04-18   \n",
      "1    335983    2008  Chandigarh 2008-04-19   \n",
      "2    335984    2008       Delhi 2008-04-19   \n",
      "3    335985    2008      Mumbai 2008-04-20   \n",
      "4    335986    2008     Kolkata 2008-04-20   \n",
      "\n",
      "                                        venue        team1_bat_first  \\\n",
      "0                       M Chinnaswamy Stadium  Kolkata Knight Riders   \n",
      "1  Punjab Cricket Association Stadium, Mohali    Chennai Super Kings   \n",
      "2                            Feroz Shah Kotla       Rajasthan Royals   \n",
      "3                            Wankhede Stadium         Mumbai Indians   \n",
      "4                                Eden Gardens    Sunrisers Hyderabad   \n",
      "\n",
      "                   team2_chase                  toss_winner toss_decision  \\\n",
      "0  Royal Challengers Bengaluru  Royal Challengers Bengaluru         field   \n",
      "1                 Punjab Kings          Chennai Super Kings           bat   \n",
      "2               Delhi Capitals             Rajasthan Royals           bat   \n",
      "3  Royal Challengers Bengaluru               Mumbai Indians           bat   \n",
      "4        Kolkata Knight Riders          Sunrisers Hyderabad           bat   \n",
      "\n",
      "   target_runs  wickets_lost_inn1                       winner  \\\n",
      "0        223.0                  3        Kolkata Knight Riders   \n",
      "1        241.0                  5          Chennai Super Kings   \n",
      "2        130.0                  8               Delhi Capitals   \n",
      "3        166.0                  7  Royal Challengers Bengaluru   \n",
      "4        111.0                 10        Kolkata Knight Riders   \n",
      "\n",
      "   chasing_team_won  \n",
      "0                 0  \n",
      "1                 0  \n",
      "2                 1  \n",
      "3                 1  \n",
      "4                 1  \n",
      "\n",
      "--- Match Summary DataFrame Info ---\n",
      "<class 'pandas.core.frame.DataFrame'>\n",
      "RangeIndex: 963 entries, 0 to 962\n",
      "Data columns (total 13 columns):\n",
      " #   Column             Non-Null Count  Dtype         \n",
      "---  ------             --------------  -----         \n",
      " 0   match_id           963 non-null    int64         \n",
      " 1   season             963 non-null    int64         \n",
      " 2   city               963 non-null    object        \n",
      " 3   date               963 non-null    datetime64[ns]\n",
      " 4   venue              963 non-null    object        \n",
      " 5   team1_bat_first    963 non-null    object        \n",
      " 6   team2_chase        963 non-null    object        \n",
      " 7   toss_winner        963 non-null    object        \n",
      " 8   toss_decision      963 non-null    object        \n",
      " 9   target_runs        963 non-null    float64       \n",
      " 10  wickets_lost_inn1  963 non-null    int64         \n",
      " 11  winner             963 non-null    object        \n",
      " 12  chasing_team_won   963 non-null    int64         \n",
      "dtypes: datetime64[ns](1), float64(1), int64(4), object(7)\n",
      "memory usage: 97.9+ KB\n",
      "\n",
      "--- Match Summary DataFrame Missing Values ---\n",
      "match_id             0\n",
      "season               0\n",
      "city                 0\n",
      "date                 0\n",
      "venue                0\n",
      "team1_bat_first      0\n",
      "team2_chase          0\n",
      "toss_winner          0\n",
      "toss_decision        0\n",
      "target_runs          0\n",
      "wickets_lost_inn1    0\n",
      "winner               0\n",
      "chasing_team_won     0\n",
      "dtype: int64\n"
     ]
    }
   ],
   "source": [
    "match_summary_df = pd.DataFrame(match_summary_list)\n",
    "\n",
    "print(\"--- Match Summary DataFrame Head ---\")\n",
    "print(match_summary_df.head())\n",
    "print(\"\\n--- Match Summary DataFrame Info ---\")\n",
    "match_summary_df.info()\n",
    "print(\"\\n--- Match Summary DataFrame Missing Values ---\")\n",
    "print(match_summary_df.isnull().sum())"
   ]
  },
  {
   "cell_type": "code",
   "execution_count": 32,
   "id": "3567f4eb",
   "metadata": {},
   "outputs": [],
   "source": [
    "# Standardize 'venue' column by removing everything after the first comma\n",
    "match_summary_df['venue'] = match_summary_df['venue'].str.split(',').str[0].str.strip()\n"
   ]
  },
  {
   "cell_type": "code",
   "execution_count": 33,
   "id": "646187cf",
   "metadata": {},
   "outputs": [
    {
     "data": {
      "text/plain": [
       "array(['M Chinnaswamy Stadium', 'Punjab Cricket Association Stadium',\n",
       "       'Feroz Shah Kotla', 'Wankhede Stadium', 'Eden Gardens',\n",
       "       'Sawai Mansingh Stadium', 'Rajiv Gandhi International Stadium',\n",
       "       'MA Chidambaram Stadium', 'Dr DY Patil Sports Academy', 'Newlands',\n",
       "       \"St George's Park\", 'Kingsmead', 'SuperSport Park', 'Buffalo Park',\n",
       "       'New Wanderers Stadium', 'De Beers Diamond Oval',\n",
       "       'OUTsurance Oval', 'Brabourne Stadium', 'Sardar Patel Stadium',\n",
       "       'Barabati Stadium', 'Vidarbha Cricket Association Stadium',\n",
       "       'Himachal Pradesh Cricket Association Stadium',\n",
       "       'Dr. Y.S. Rajasekhara Reddy ACA-VDCA Cricket Stadium',\n",
       "       'Subrata Roy Sahara Stadium',\n",
       "       'Shaheed Veer Narayan Singh International Stadium',\n",
       "       'JSCA International Stadium Complex', 'Sheikh Zayed Stadium',\n",
       "       'Sharjah Cricket Stadium', 'Dubai International Cricket Stadium',\n",
       "       'Maharashtra Cricket Association Stadium',\n",
       "       'Punjab Cricket Association IS Bindra Stadium',\n",
       "       'M.Chinnaswamy Stadium', 'Holkar Cricket Stadium',\n",
       "       'Arun Jaitley Stadium', 'Narendra Modi Stadium',\n",
       "       'Zayed Cricket Stadium',\n",
       "       'Bharat Ratna Shri Atal Bihari Vajpayee Ekana Cricket Stadium',\n",
       "       'Barsapara Cricket Stadium',\n",
       "       'Maharaja Yadavindra Singh International Cricket Stadium'],\n",
       "      dtype=object)"
      ]
     },
     "execution_count": 33,
     "metadata": {},
     "output_type": "execute_result"
    }
   ],
   "source": [
    "match_summary_df['venue'].unique()"
   ]
  },
  {
   "cell_type": "code",
   "execution_count": 35,
   "id": "fbf544fa",
   "metadata": {},
   "outputs": [],
   "source": [
    "match_summary_df.to_csv(\"Match_level_dataset.csv\", index=False)"
   ]
  },
  {
   "cell_type": "code",
   "execution_count": null,
   "id": "40c78f9d",
   "metadata": {},
   "outputs": [],
   "source": []
  }
 ],
 "metadata": {
  "kernelspec": {
   "display_name": "Agents",
   "language": "python",
   "name": "python3"
  },
  "language_info": {
   "codemirror_mode": {
    "name": "ipython",
    "version": 3
   },
   "file_extension": ".py",
   "mimetype": "text/x-python",
   "name": "python",
   "nbconvert_exporter": "python",
   "pygments_lexer": "ipython3",
   "version": "3.12.8"
  }
 },
 "nbformat": 4,
 "nbformat_minor": 5
}
